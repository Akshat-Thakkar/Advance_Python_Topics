{
 "cells": [
  {
   "cell_type": "markdown",
   "id": "5a7d9dcc",
   "metadata": {},
   "source": [
    "Decorators ==>  Decorator ek aisa function hota hai jo doosre function ke behavior ko bina code change kiye modify kar deta hai."
   ]
  },
  {
   "cell_type": "code",
   "execution_count": 2,
   "id": "a2e29f46",
   "metadata": {},
   "outputs": [
    {
     "name": "stdout",
     "output_type": "stream",
     "text": [
      "Dividing 10 by 2\n",
      "5.0\n",
      "Dividing 5 by 0\n",
      "Can't divide by zero!\n"
     ]
    }
   ],
   "source": [
    "def smart_divide(func):\n",
    "    def wrapper(a, b):\n",
    "        print(f\"Dividing {a} by {b}\")\n",
    "        if b == 0:\n",
    "            return \"Can't divide by zero!\"\n",
    "        return func(a, b)\n",
    "    return wrapper\n",
    "\n",
    "@smart_divide\n",
    "def divide(a, b):\n",
    "    return a / b\n",
    "\n",
    "print(divide(10, 2))  # 5.0\n",
    "print(divide(5, 0))   # Error handled\n"
   ]
  },
  {
   "cell_type": "markdown",
   "id": "6492ee71",
   "metadata": {},
   "source": [
    "\n",
    "| `*args`    | Accepts **any number of positional arguments** | Aise arguments jo order se diye jate hain                 |\n"
   ]
  },
  {
   "cell_type": "code",
   "execution_count": null,
   "id": "109c171e",
   "metadata": {},
   "outputs": [
    {
     "name": "stdout",
     "output_type": "stream",
     "text": [
      "args = (1, 2, 3, 4)\n",
      "10\n"
     ]
    }
   ],
   "source": [
    "def add_all(*args):\n",
    "    print(\"args =\", args)\n",
    "    return sum(args)\n",
    "\n",
    "print(add_all(1, 2, 3, 4)) "
   ]
  },
  {
   "cell_type": "markdown",
   "id": "0257000b",
   "metadata": {},
   "source": [
    "| `**kwargs` | Accepts **any number of keyword arguments**    | Aise arguments (key=value) pair mai liye jate hai\n",
    " |\n"
   ]
  },
  {
   "cell_type": "code",
   "execution_count": 4,
   "id": "80c2153c",
   "metadata": {},
   "outputs": [
    {
     "name": "stdout",
     "output_type": "stream",
     "text": [
      "kwargs = {'name': 'Akshat', 'age': 21, 'city': 'Ahmedabad'}\n",
      "name = Akshat\n",
      "age = 21\n",
      "city = Ahmedabad\n"
     ]
    }
   ],
   "source": [
    "def print_details(**kwargs):\n",
    "    print(\"kwargs =\", kwargs)\n",
    "    for key, value in kwargs.items():\n",
    "        print(f\"{key} = {value}\")\n",
    "\n",
    "print_details(name=\"Akshat\", age=21, city=\"Ahmedabad\")\n"
   ]
  },
  {
   "cell_type": "markdown",
   "id": "7a78fac6",
   "metadata": {},
   "source": [
    "We can also use them togather"
   ]
  },
  {
   "cell_type": "code",
   "execution_count": 5,
   "id": "1fd333ea",
   "metadata": {},
   "outputs": [
    {
     "name": "stdout",
     "output_type": "stream",
     "text": [
      "Positional args: (1, 2, 3)\n",
      "Keyword args: {'name': 'Akshat', 'role': 'Intern'}\n"
     ]
    }
   ],
   "source": [
    "def mix_args(*args, **kwargs):\n",
    "    print(\"Positional args:\", args)\n",
    "    print(\"Keyword args:\", kwargs)\n",
    "\n",
    "mix_args(1, 2, 3, name=\"Akshat\", role=\"Intern\")\n"
   ]
  }
 ],
 "metadata": {
  "kernelspec": {
   "display_name": "Python 3",
   "language": "python",
   "name": "python3"
  },
  "language_info": {
   "codemirror_mode": {
    "name": "ipython",
    "version": 3
   },
   "file_extension": ".py",
   "mimetype": "text/x-python",
   "name": "python",
   "nbconvert_exporter": "python",
   "pygments_lexer": "ipython3",
   "version": "3.11.9"
  }
 },
 "nbformat": 4,
 "nbformat_minor": 5
}
