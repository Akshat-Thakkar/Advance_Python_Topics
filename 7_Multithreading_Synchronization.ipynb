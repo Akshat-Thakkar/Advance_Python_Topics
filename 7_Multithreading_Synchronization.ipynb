{
 "cells": [
  {
   "cell_type": "markdown",
   "id": "09d501af",
   "metadata": {},
   "source": [
    "Multithreading and Synchronization"
   ]
  },
  {
   "cell_type": "markdown",
   "id": "8431e17a",
   "metadata": {},
   "source": [
    "Multithreading allows your Python program to run multiple operations at once using threads."
   ]
  },
  {
   "cell_type": "code",
   "execution_count": 1,
   "id": "4a3e978f",
   "metadata": {},
   "outputs": [
    {
     "name": "stdout",
     "output_type": "stream",
     "text": [
      "Hello Akshat!\n",
      "Hello Puja!\n",
      "Hello Akshat!\n",
      "Hello Puja!\n",
      "Hello Akshat!Hello Puja!\n",
      "\n",
      "Both threads finished.\n"
     ]
    }
   ],
   "source": [
    "import threading\n",
    "import time\n",
    "\n",
    "def greet(name):\n",
    "    for i in range(3):\n",
    "        print(f\"Hello {name}!\")\n",
    "        time.sleep(1)\n",
    "\n",
    "t1 = threading.Thread(target=greet, args=(\"Akshat\",))\n",
    "t2 = threading.Thread(target=greet, args=(\"Puja\",))\n",
    "\n",
    "t1.start()\n",
    "t2.start()\n",
    "\n",
    "t1.join()\n",
    "t2.join()\n",
    "print(\"Both threads finished.\")\n"
   ]
  },
  {
   "cell_type": "markdown",
   "id": "4ddcae4a",
   "metadata": {},
   "source": [
    "Synchronization using Lock"
   ]
  },
  {
   "cell_type": "code",
   "execution_count": null,
   "id": "2c8a53d5",
   "metadata": {},
   "outputs": [
    {
     "name": "stdout",
     "output_type": "stream",
     "text": [
      "Final counter: 200000\n"
     ]
    }
   ],
   "source": [
    "counter = 0\n",
    "lock = threading.Lock()\n",
    "\n",
    "def increment():\n",
    "    global counter\n",
    "    for _ in range(100000):\n",
    "        with lock:\n",
    "            counter += 1\n",
    "\n",
    "t1 = threading.Thread(target=increment)\n",
    "t2 = threading.Thread(target=increment)\n",
    "\n",
    "t1.start()\n",
    "t2.start()\n",
    "t1.join()\n",
    "t2.join()\n",
    "\n",
    "print(\"Final counter:\", counter)\n"
   ]
  },
  {
   "cell_type": "markdown",
   "id": "7a77b0c5",
   "metadata": {},
   "source": [
    "Daemon Threads: Daemon threads automatically end when the main program ends.\n"
   ]
  },
  {
   "cell_type": "code",
   "execution_count": null,
   "id": "4d3ca2a4",
   "metadata": {},
   "outputs": [
    {
     "name": "stdout",
     "output_type": "stream",
     "text": [
      "this is non-daemon thread\n",
      "this is non-daemon thread\n",
      "this is non-daemon thread\n",
      "main Thread execution\n"
     ]
    },
    {
     "name": "stdout",
     "output_type": "stream",
     "text": [
      "this is non-daemon thread\n",
      "this is non-daemon thread\n"
     ]
    }
   ],
   "source": [
    "# import module\n",
    "from threading import *\n",
    "import time\n",
    "\n",
    "# creating a function\n",
    "def thread_1():                 \n",
    "  for i in range(5):\n",
    "    print('this is non-daemon thread')\n",
    "    time.sleep(2)\n",
    "\n",
    "# creating a thread T\n",
    "T = Thread(target=thread_1)\n",
    "\n",
    "# starting of thread T\n",
    "T.start()      \n",
    "\n",
    "# main thread stop execution till 5 sec.\n",
    "time.sleep(5)                   \n",
    "print('main Thread execution')"
   ]
  },
  {
   "cell_type": "markdown",
   "id": "791e9f2c",
   "metadata": {},
   "source": []
  },
  {
   "cell_type": "markdown",
   "id": "818e91e9",
   "metadata": {},
   "source": [
    "| Function       | Kaam kya karta hai?                                     |\n",
    "| -------------- | ------------------------------------------------------- |\n",
    "| `Thread()`     | Naya thread banata hai                                  |\n",
    "| `start()`      | Thread chalu karta hai                                  |\n",
    "| `join()`       | Wait karta hai jab tak thread khatam ho                 |\n",
    "| `Lock()`       | Shared resource ko ek waqt me sirf ek thread use kare   |\n",
    "| `with lock:`   | Lock ko safely acquire aur release karta hai            |\n",
    "| `daemon=True`  | Background thread banata hai                            |\n",
    "| `time.sleep()` | Execution ko delay karta hai                            |\n",
    "| `global`       | Function ke andar global variable access karne deta hai |\n"
   ]
  }
 ],
 "metadata": {
  "kernelspec": {
   "display_name": "Python 3",
   "language": "python",
   "name": "python3"
  },
  "language_info": {
   "codemirror_mode": {
    "name": "ipython",
    "version": 3
   },
   "file_extension": ".py",
   "mimetype": "text/x-python",
   "name": "python",
   "nbconvert_exporter": "python",
   "pygments_lexer": "ipython3",
   "version": "3.11.9"
  }
 },
 "nbformat": 4,
 "nbformat_minor": 5
}
