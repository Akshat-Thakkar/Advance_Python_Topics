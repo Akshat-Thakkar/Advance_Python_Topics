{
 "cells": [
  {
   "cell_type": "markdown",
   "id": "23600206",
   "metadata": {},
   "source": [
    "Function Composition\n",
    "Definition: Combining two or more functions to form a new function — jisme ek function ka output dusre ka input ban jaata hai."
   ]
  },
  {
   "cell_type": "code",
   "execution_count": null,
   "id": "643a9c1f",
   "metadata": {},
   "outputs": [
    {
     "name": "stdout",
     "output_type": "stream",
     "text": [
      "18\n"
     ]
    }
   ],
   "source": [
    "def double(x):\n",
    "    return x * 2\n",
    "\n",
    "def square(x):\n",
    "    return x ** 2\n",
    "\n",
    "def compose(f, g):\n",
    "    return lambda x: g(f(x))\n",
    "\n",
    "composed_func = compose(square, double)\n",
    "print(composed_func(3))  "
   ]
  },
  {
   "cell_type": "markdown",
   "id": "f71df8f8",
   "metadata": {},
   "source": [
    "Currying: Converting a function that takes multiple arguments into a series of functions that each take one argument.\n"
   ]
  },
  {
   "cell_type": "code",
   "execution_count": 3,
   "id": "b814a7d4",
   "metadata": {},
   "outputs": [
    {
     "name": "stdout",
     "output_type": "stream",
     "text": [
      "25\n"
     ]
    }
   ],
   "source": [
    "from functools import partial\n",
    "\n",
    "def power(base, exponent):\n",
    "    return base ** exponent\n",
    "\n",
    "square = partial(power, exponent=2)\n",
    "print(square(5))  # Output: 25\n"
   ]
  },
  {
   "cell_type": "code",
   "execution_count": null,
   "id": "4bca41a4",
   "metadata": {},
   "outputs": [],
   "source": []
  }
 ],
 "metadata": {
  "kernelspec": {
   "display_name": "Python 3",
   "language": "python",
   "name": "python3"
  },
  "language_info": {
   "codemirror_mode": {
    "name": "ipython",
    "version": 3
   },
   "file_extension": ".py",
   "mimetype": "text/x-python",
   "name": "python",
   "nbconvert_exporter": "python",
   "pygments_lexer": "ipython3",
   "version": "3.11.9"
  }
 },
 "nbformat": 4,
 "nbformat_minor": 5
}
