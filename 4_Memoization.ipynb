{
 "cells": [
  {
   "cell_type": "markdown",
   "id": "b86fcdb1",
   "metadata": {},
   "source": [
    "Memoization is an optimization technique used in computer programming to speed up programs by storing the results of expensive function calls and returning the cached result when the same inputs occur again. It's particularly useful for recursive functions and functions with overlapping subproblems."
   ]
  },
  {
   "cell_type": "code",
   "execution_count": null,
   "id": "f45fe5aa",
   "metadata": {},
   "outputs": [
    {
     "name": "stdout",
     "output_type": "stream",
     "text": [
      "9227465\n",
      "Time taken: 1.8203346729278564 seconds\n"
     ]
    }
   ],
   "source": [
    "import time\n",
    "\n",
    "def fib(n):\n",
    "    if n <= 1:\n",
    "        return n\n",
    "    return fib(n-1) + fib(n-2)\n",
    "start = time.time()\n",
    "print(fib(35))  \n",
    "print(f\"Time taken: {time.time() - start} seconds\")\n"
   ]
  },
  {
   "cell_type": "markdown",
   "id": "625c10ec",
   "metadata": {},
   "source": [
    "Solution: Memoization"
   ]
  },
  {
   "cell_type": "markdown",
   "id": "9664af5e",
   "metadata": {},
   "source": [
    "Option 1: Manual Memoization Using Dictionary"
   ]
  },
  {
   "cell_type": "code",
   "execution_count": 9,
   "id": "bc766156",
   "metadata": {},
   "outputs": [
    {
     "name": "stdout",
     "output_type": "stream",
     "text": [
      "9227465\n",
      "Time taken: 0.0010330677032470703 seconds\n"
     ]
    }
   ],
   "source": [
    "import time\n",
    "def fib(n, memo={}):\n",
    "    if n in memo:\n",
    "        return memo[n]\n",
    "    if n <= 1:\n",
    "        return n\n",
    "    memo[n] = fib(n-1, memo) + fib(n-2, memo)\n",
    "    return memo[n]\n",
    "\n",
    "start = time.time()\n",
    "print(fib(35))  # Fast with memoization\n",
    "print(f\"Time taken: {time.time() - start} seconds\")"
   ]
  },
  {
   "cell_type": "markdown",
   "id": "dbbcc692",
   "metadata": {},
   "source": [
    "Option 2: Using @lru_cache Decorator (Built-in)"
   ]
  },
  {
   "cell_type": "code",
   "execution_count": 13,
   "id": "d7655a56",
   "metadata": {},
   "outputs": [
    {
     "name": "stdout",
     "output_type": "stream",
     "text": [
      "55\n",
      "9227465\n",
      "Time taken: 0.0 seconds\n"
     ]
    }
   ],
   "source": [
    "from functools import lru_cache\n",
    "\n",
    "@lru_cache(maxsize=500 * 1024)  # 500 KB cache\n",
    "def fib(n):\n",
    "    if n <= 1:\n",
    "        return n\n",
    "    return fib(n-1) + fib(n-2)\n",
    "\n",
    "print(fib(10))  # Output: 55\n",
    "import time\n",
    "start = time.time()\n",
    "print(fib(35))  # Fast with memoization\n",
    "print(f\"Time taken: {time.time() - start} seconds\")\n"
   ]
  }
 ],
 "metadata": {
  "kernelspec": {
   "display_name": "Python 3",
   "language": "python",
   "name": "python3"
  },
  "language_info": {
   "codemirror_mode": {
    "name": "ipython",
    "version": 3
   },
   "file_extension": ".py",
   "mimetype": "text/x-python",
   "name": "python",
   "nbconvert_exporter": "python",
   "pygments_lexer": "ipython3",
   "version": "3.11.9"
  }
 },
 "nbformat": 4,
 "nbformat_minor": 5
}
