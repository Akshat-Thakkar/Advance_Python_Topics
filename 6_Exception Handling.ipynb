{
 "cells": [
  {
   "cell_type": "markdown",
   "id": "88d4d45b",
   "metadata": {},
   "source": [
    "Python Exception Handling handles errors that occur during the execution of a program. Exception handling allows to respond to the error, instead of crashing the running program. It enables you to catch and manage errors, making your code more robust and user-friendly"
   ]
  },
  {
   "cell_type": "code",
   "execution_count": 1,
   "id": "d337cbfd",
   "metadata": {},
   "outputs": [
    {
     "name": "stdout",
     "output_type": "stream",
     "text": [
      "division by zero Error\n"
     ]
    }
   ],
   "source": [
    "try:\n",
    "    a = 5\n",
    "    b = 0\n",
    "    \n",
    "    print(a / b)\n",
    "except Exception as e:\n",
    "    print(e,\"Error\")\n"
   ]
  },
  {
   "cell_type": "code",
   "execution_count": 3,
   "id": "5679d991",
   "metadata": {},
   "outputs": [
    {
     "name": "stdout",
     "output_type": "stream",
     "text": [
      "unsupported operand type(s) for ** or pow(): 'str' and 'int' Error!\n",
      "This always runs.\n"
     ]
    }
   ],
   "source": [
    "try:\n",
    "    num = 'A'\n",
    "    print(\"Square is:\", num**2)\n",
    "except Exception as e:\n",
    "    print(e,\"Error!\")\n",
    "else:\n",
    "    print(\"Code ran without error.\")\n",
    "finally:\n",
    "    print(\"This always runs.\")"
   ]
  },
  {
   "cell_type": "markdown",
   "id": "67f39afb",
   "metadata": {},
   "source": [
    "Raising your own error (Custom)"
   ]
  },
  {
   "cell_type": "code",
   "execution_count": 4,
   "id": "72f37a70",
   "metadata": {},
   "outputs": [
    {
     "name": "stdout",
     "output_type": "stream",
     "text": [
      "Caught error: Under Age!!!!!!!\n"
     ]
    }
   ],
   "source": [
    "def check_age(age):\n",
    "    if age < 18:\n",
    "        raise ValueError(\"Under Age!!!!!!!\")\n",
    "    return f\"Valid age: {age}\"\n",
    "\n",
    "try:\n",
    "    print(check_age(16))\n",
    "except ValueError as e:\n",
    "    print(\"Caught error:\", e)\n"
   ]
  },
  {
   "cell_type": "markdown",
   "id": "b6621278",
   "metadata": {},
   "source": [
    "| Keyword   | Use                     |\n",
    "| --------- | ----------------------- |\n",
    "| `try`     | Run risky code          | \n",
    "| `except`  | Handle specific error   | \n",
    "| `else`    | If no error, run this   | \n",
    "| `finally` | Always run this block   | \n",
    "| `raise`   | Throw an error manually | "
   ]
  }
 ],
 "metadata": {
  "kernelspec": {
   "display_name": "Python 3",
   "language": "python",
   "name": "python3"
  },
  "language_info": {
   "codemirror_mode": {
    "name": "ipython",
    "version": 3
   },
   "file_extension": ".py",
   "mimetype": "text/x-python",
   "name": "python",
   "nbconvert_exporter": "python",
   "pygments_lexer": "ipython3",
   "version": "3.11.9"
  }
 },
 "nbformat": 4,
 "nbformat_minor": 5
}
