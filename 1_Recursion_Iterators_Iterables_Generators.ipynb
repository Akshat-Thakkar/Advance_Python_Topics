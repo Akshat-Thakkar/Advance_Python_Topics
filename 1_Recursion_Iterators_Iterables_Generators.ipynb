{
 "cells": [
  {
   "cell_type": "markdown",
   "id": "036c4c39",
   "metadata": {},
   "source": [
    "Recursion in computer science is a powerful programming technique where a function calls itself to solve a problem. It works by breaking down a large problem into smaller, similar subproblems that can be solved recursively. This process continues until a simple base case is reached, which provides a direct solution without further recursion. "
   ]
  },
  {
   "cell_type": "code",
   "execution_count": 1,
   "id": "74436ab6",
   "metadata": {},
   "outputs": [
    {
     "name": "stdout",
     "output_type": "stream",
     "text": [
      "Factorial of 5 is: 120\n"
     ]
    }
   ],
   "source": [
    "# Factorial using Recursion\n",
    "def factorial(n):\n",
    "    if n == 0 or n == 1:\n",
    "        return 1  # Base case\n",
    "    else:\n",
    "        return n * factorial(n - 1)  # Recursive call\n",
    "\n",
    "print(\"Factorial of 5 is:\", factorial(5))  # Output: 120\n"
   ]
  },
  {
   "cell_type": "code",
   "execution_count": 4,
   "id": "243f3bb3",
   "metadata": {},
   "outputs": [
    {
     "name": "stdout",
     "output_type": "stream",
     "text": [
      "Fibonacci Series (0 to 5):\n",
      "0 1 1 2 3 5 "
     ]
    }
   ],
   "source": [
    "# Fibonacci using Recursion\n",
    "def fibonacci(n):\n",
    "    if n <= 1:\n",
    "        return n  # Base case\n",
    "    else:\n",
    "        return fibonacci(n - 1) + fibonacci(n - 2)  # Recursive call\n",
    "\n",
    "print(\"Fibonacci Series (0 to 5):\")\n",
    "for i in range(6):\n",
    "    print(fibonacci(i), end=\" \")  # Output: 0 1 1 2 3 5\n"
   ]
  },
  {
   "cell_type": "markdown",
   "id": "a683f66a",
   "metadata": {},
   "source": [
    "An iterable is any object that can be looped over, like lists, tuples, and strings\n",
    "Examples of Iterables:\n",
    "1.List\n",
    "2.Tuple\n",
    "3.String\n",
    "4.Dictionary\n",
    "5.Set"
   ]
  },
  {
   "cell_type": "code",
   "execution_count": null,
   "id": "e6b18300",
   "metadata": {},
   "outputs": [
    {
     "name": "stdout",
     "output_type": "stream",
     "text": [
      "1\n",
      "2\n",
      "3\n"
     ]
    }
   ],
   "source": [
    "numbers = [1, 2, 3]\n",
    "for num in numbers:\n",
    "    print(num)  # This works because 'numbers' is iterable\n"
   ]
  },
  {
   "cell_type": "markdown",
   "id": "2cd759c6",
   "metadata": {},
   "source": [
    "An iterator is an object that provides a way to access the elements of an iterable one by one"
   ]
  },
  {
   "cell_type": "code",
   "execution_count": 12,
   "id": "31c0934e",
   "metadata": {},
   "outputs": [
    {
     "name": "stdout",
     "output_type": "stream",
     "text": [
      "1\n",
      "2\n",
      "3\n",
      "4\n",
      "5\n",
      "6\n"
     ]
    }
   ],
   "source": [
    "list=[1,2,3,4,5,6]\n",
    "itr=iter(list)\n",
    "print(next(itr))\n",
    "print(next(itr))\n",
    "print(next(itr))\n",
    "print(next(itr))\n",
    "print(next(itr))\n",
    "print(next(itr))\n"
   ]
  },
  {
   "cell_type": "markdown",
   "id": "b701a38e",
   "metadata": {},
   "source": [
    "Generators in Python are a special type of function that produces a sequence of values lazily, one at a time, rather than storing all values in memory at once. They are used to create iterators, but with a different approach.It Returns generator class object \n",
    "\n",
    "Jab aapko bohot saare data ke saath kaam karna ho — jaise lakhon records — tab generator memory efficient hota hai."
   ]
  },
  {
   "cell_type": "code",
   "execution_count": 5,
   "id": "f4e248d6",
   "metadata": {},
   "outputs": [
    {
     "name": "stdout",
     "output_type": "stream",
     "text": [
      "[0, 1, 4, 9, 16]\n",
      "<generator object <genexpr> at 0x0000027E1B71B100> ==>   the generator object\n",
      "[0, 1, 4, 9, 16]\n"
     ]
    }
   ],
   "source": [
    "# List comprehension - stores all values\n",
    "squares = [x * x for x in range(5)]\n",
    "print(squares)\n",
    "# Generator expression - computes values on the fly\n",
    "squares_gen = (x * x for x in range(5))\n",
    "print(squares_gen,\"==>   the generator object\")\n",
    "print(list(squares_gen))"
   ]
  },
  {
   "cell_type": "code",
   "execution_count": 6,
   "id": "329e4939",
   "metadata": {},
   "outputs": [
    {
     "name": "stdout",
     "output_type": "stream",
     "text": [
      "Using generator with next():\n",
      "1\n",
      "2\n",
      "3\n"
     ]
    }
   ],
   "source": [
    "# Generator function that yields numbers up to n\n",
    "def count_upto(n):\n",
    "    num = 1\n",
    "    while num <= n:\n",
    "        yield num\n",
    "        num += 1\n",
    "\n",
    "gen = count_upto(5)\n",
    "\n",
    "print(\"Using generator with next():\")\n",
    "print(next(gen))  # 1\n",
    "print(next(gen))  # 2\n",
    "print(next(gen))  # 3\n"
   ]
  },
  {
   "cell_type": "code",
   "execution_count": null,
   "id": "f46e7af8",
   "metadata": {},
   "outputs": [],
   "source": []
  }
 ],
 "metadata": {
  "kernelspec": {
   "display_name": "Python 3",
   "language": "python",
   "name": "python3"
  },
  "language_info": {
   "codemirror_mode": {
    "name": "ipython",
    "version": 3
   },
   "file_extension": ".py",
   "mimetype": "text/x-python",
   "name": "python",
   "nbconvert_exporter": "python",
   "pygments_lexer": "ipython3",
   "version": "3.11.9"
  }
 },
 "nbformat": 4,
 "nbformat_minor": 5
}
