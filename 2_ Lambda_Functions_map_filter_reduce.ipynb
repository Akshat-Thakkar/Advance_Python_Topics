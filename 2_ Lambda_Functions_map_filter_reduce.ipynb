{
 "cells": [
  {
   "cell_type": "markdown",
   "id": "66a26a76",
   "metadata": {},
   "source": [
    "\n",
    "lambda function ==>\tSmall anonymous function ==>  Ek-line function\n"
   ]
  },
  {
   "cell_type": "code",
   "execution_count": 1,
   "id": "72c04fcf",
   "metadata": {},
   "outputs": [
    {
     "name": "stdout",
     "output_type": "stream",
     "text": [
      "8\n"
     ]
    }
   ],
   "source": [
    "# Normal function\n",
    "def add(a, b):\n",
    "    return a + b\n",
    "\n",
    "# Same using lambda\n",
    "add_lambda = lambda a, b: a + b\n",
    "print(add_lambda(3, 5))  \n"
   ]
  },
  {
   "cell_type": "markdown",
   "id": "5be5310e",
   "metadata": {},
   "source": [
    "map() Function ==> map sabhi elements par ek function apply karta hai.\n"
   ]
  },
  {
   "cell_type": "code",
   "execution_count": 4,
   "id": "8f2d3264",
   "metadata": {},
   "outputs": [
    {
     "name": "stdout",
     "output_type": "stream",
     "text": [
      "[1, 4, 9, 16, 25, 36, 49, 64, 81, 100]\n"
     ]
    }
   ],
   "source": [
    "nums = [1, 2, 3, 4, 5, 6, 7, 8, 9, 10]\n",
    "squared = list(map(lambda x: x ** 2, nums))\n",
    "print(squared)  \n"
   ]
  },
  {
   "cell_type": "markdown",
   "id": "748434a7",
   "metadata": {},
   "source": [
    "filter() Function ==>  filter woh elements return karta hai jinke liye condition True hoti hai."
   ]
  },
  {
   "cell_type": "code",
   "execution_count": 6,
   "id": "185714fa",
   "metadata": {},
   "outputs": [
    {
     "name": "stdout",
     "output_type": "stream",
     "text": [
      "Prime Numbers from 1 to 30:\n",
      "[2, 3, 5, 7, 11, 13, 17, 19, 23, 29]\n"
     ]
    }
   ],
   "source": [
    "# Helper function to check prime\n",
    "def is_prime(n):\n",
    "    if n <= 1:\n",
    "        return False\n",
    "    for i in range(2, int(n**0.5) + 1):\n",
    "        if n % i == 0:\n",
    "            return False\n",
    "    return True\n",
    "\n",
    "# List of numbers to check\n",
    "nums = list(range(1, 31))\n",
    "\n",
    "# Using filter to get primes\n",
    "prime_nums = list(filter(is_prime, nums))\n",
    "\n",
    "print(\"Prime Numbers from 1 to 30:\")\n",
    "print(prime_nums)\n"
   ]
  },
  {
   "cell_type": "markdown",
   "id": "bd50240f",
   "metadata": {},
   "source": [
    "reduce() Function ==>  reduce elements ko combine karta hai ek hi result mein. Iske liye functools module chahiye."
   ]
  },
  {
   "cell_type": "code",
   "execution_count": 13,
   "id": "d8bc052e",
   "metadata": {},
   "outputs": [
    {
     "name": "stdout",
     "output_type": "stream",
     "text": [
      "1152921504606846976\n"
     ]
    }
   ],
   "source": [
    "from functools import reduce\n",
    "nums = [2, 3, 4, 5]\n",
    "power = reduce(lambda x, y: x ** y, nums)\n",
    "print(power)"
   ]
  }
 ],
 "metadata": {
  "kernelspec": {
   "display_name": "Python 3",
   "language": "python",
   "name": "python3"
  },
  "language_info": {
   "codemirror_mode": {
    "name": "ipython",
    "version": 3
   },
   "file_extension": ".py",
   "mimetype": "text/x-python",
   "name": "python",
   "nbconvert_exporter": "python",
   "pygments_lexer": "ipython3",
   "version": "3.11.9"
  }
 },
 "nbformat": 4,
 "nbformat_minor": 5
}
